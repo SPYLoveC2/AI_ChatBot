{
 "cells": [
  {
   "cell_type": "code",
   "execution_count": 1,
   "id": "35c05d95-1f3f-4e33-9397-3f31a05e4f7b",
   "metadata": {
    "collapsed": true,
    "jupyter": {
     "outputs_hidden": true
    }
   },
   "outputs": [
    {
     "name": "stderr",
     "output_type": "stream",
     "text": [
      "/home/lumiq22noida087/anaconda3/envs/genai/lib/python3.11/site-packages/tqdm/auto.py:21: TqdmWarning: IProgress not found. Please update jupyter and ipywidgets. See https://ipywidgets.readthedocs.io/en/stable/user_install.html\n",
      "  from .autonotebook import tqdm as notebook_tqdm\n",
      "2025-05-12 21:40:54.159011: I tensorflow/core/util/port.cc:153] oneDNN custom operations are on. You may see slightly different numerical results due to floating-point round-off errors from different computation orders. To turn them off, set the environment variable `TF_ENABLE_ONEDNN_OPTS=0`.\n",
      "2025-05-12 21:40:54.160113: I external/local_xla/xla/tsl/cuda/cudart_stub.cc:32] Could not find cuda drivers on your machine, GPU will not be used.\n",
      "2025-05-12 21:40:54.163115: I external/local_xla/xla/tsl/cuda/cudart_stub.cc:32] Could not find cuda drivers on your machine, GPU will not be used.\n",
      "2025-05-12 21:40:54.171537: E external/local_xla/xla/stream_executor/cuda/cuda_fft.cc:467] Unable to register cuFFT factory: Attempting to register factory for plugin cuFFT when one has already been registered\n",
      "WARNING: All log messages before absl::InitializeLog() is called are written to STDERR\n",
      "E0000 00:00:1747066254.186239    6397 cuda_dnn.cc:8579] Unable to register cuDNN factory: Attempting to register factory for plugin cuDNN when one has already been registered\n",
      "E0000 00:00:1747066254.190627    6397 cuda_blas.cc:1407] Unable to register cuBLAS factory: Attempting to register factory for plugin cuBLAS when one has already been registered\n",
      "W0000 00:00:1747066254.200267    6397 computation_placer.cc:177] computation placer already registered. Please check linkage and avoid linking the same target more than once.\n",
      "W0000 00:00:1747066254.200277    6397 computation_placer.cc:177] computation placer already registered. Please check linkage and avoid linking the same target more than once.\n",
      "W0000 00:00:1747066254.200278    6397 computation_placer.cc:177] computation placer already registered. Please check linkage and avoid linking the same target more than once.\n",
      "W0000 00:00:1747066254.200280    6397 computation_placer.cc:177] computation placer already registered. Please check linkage and avoid linking the same target more than once.\n",
      "2025-05-12 21:40:54.203813: I tensorflow/core/platform/cpu_feature_guard.cc:210] This TensorFlow binary is optimized to use available CPU instructions in performance-critical operations.\n",
      "To enable the following instructions: AVX2 AVX512F AVX512_VNNI FMA, in other operations, rebuild TensorFlow with the appropriate compiler flags.\n",
      "Fetching 30 files: 100%|█████████████████████| 30/30 [00:00<00:00, 89177.26it/s]\n"
     ]
    }
   ],
   "source": [
    "from get_relevent_docs import get_documents"
   ]
  },
  {
   "cell_type": "code",
   "execution_count": 3,
   "id": "1f983a9e-5b45-4813-b8a3-97216fa40dbb",
   "metadata": {},
   "outputs": [],
   "source": [
    "from pymilvus import connections, Collection\n"
   ]
  },
  {
   "cell_type": "code",
   "execution_count": 4,
   "id": "75999a70-ef72-4251-b3f0-02975f116bb0",
   "metadata": {},
   "outputs": [],
   "source": [
    "connections.connect(\"default\", host=\"localhost\", port=\"19530\")\n",
    "collection = Collection(name='embedding_db')\n",
    "collection.load()"
   ]
  },
  {
   "cell_type": "code",
   "execution_count": 16,
   "id": "5059250c-f579-4b74-bf49-133f4e2760a4",
   "metadata": {},
   "outputs": [],
   "source": [
    "docs = get_documents(\"What are challenges which are faced by kotak bank\")"
   ]
  },
  {
   "cell_type": "code",
   "execution_count": 22,
   "id": "8b83bb9d-74b0-482b-94bc-ef78ad24a8dc",
   "metadata": {},
   "outputs": [],
   "source": [
    "payload = [[\"What are challenges which are faced by kotak bank\"]]\n",
    "for doc in docs[0]:\n",
    "    with open(doc['entity']['image_path'], 'rb') as f:\n",
    "      image_bytes = f.read()\n",
    "    img = types.Part.from_bytes(\n",
    "            data=image_bytes,\n",
    "            mime_type='image/jpeg',\n",
    "          )\n",
    "    payload.append(img)"
   ]
  },
  {
   "cell_type": "code",
   "execution_count": 18,
   "id": "50c0361e-73f2-44cd-8ac4-b6cd543935be",
   "metadata": {},
   "outputs": [],
   "source": [
    "import os\n",
    "import dotenv\n",
    "import os\n",
    "import time\n",
    "from tqdm import tqdm\n",
    "from PIL import Image\n",
    "from google import genai\n",
    "from google.genai import types\n",
    "from pymilvus import connections, Collection, FieldSchema, CollectionSchema, DataType, list_collections, drop_collection\n",
    "from pymilvus.model.hybrid import BGEM3EmbeddingFunction\n",
    "from raw_data_splitter import get_files_path\n",
    "from datetime import datetime\n",
    "import warnings\n",
    "warnings.filterwarnings('ignore')\n",
    "\n",
    "\n",
    "\n",
    "################################################ Initializing vars and connections ################################################\n",
    "dotenv.load_dotenv()\n",
    "GEMINI_API_KEY = os.getenv('GEMINI_API_KEY')\n",
    "client = genai.Client(api_key=GEMINI_API_KEY)\n",
    "connections.connect(\"default\", host=\"localhost\", port=\"19530\")\n",
    "metadata = {\"image_path\": [], \"summary\": [], \"dense_vector\": [], \"sparse_vector\": []}\n"
   ]
  },
  {
   "cell_type": "code",
   "execution_count": 25,
   "id": "3fc2b81c-c943-4efe-83f3-5727d7d03953",
   "metadata": {},
   "outputs": [
    {
     "name": "stdout",
     "output_type": "stream",
     "text": [
      "Based on the images you sent, here are the challenges faced by Kotak Bank (KMBL):\n",
      "\n",
      "*   **Bank embark on greenfield digitization journey to offer hyper personalization to its customer**\n",
      "*   **Heart of hyper personalization was designed leveraging AIML**\n",
      "*   **Solution also required interface with channels using serving engine**\n",
      "*   **Bank wanted to build Customer DNA features across all banking relationship to design offers based on customer style**\n"
     ]
    }
   ],
   "source": [
    "from google.genai import types\n",
    "\n",
    "# with open('path/to/small-sample.jpg', 'rb') as f:\n",
    "#   image_bytes = f.read()\n",
    "response = client.models.generate_content(\n",
    "model='gemini-2.0-flash',\n",
    "contents=payload\n",
    ")\n",
    "\n",
    "print(response.text)\n"
   ]
  },
  {
   "cell_type": "code",
   "execution_count": null,
   "id": "03fcf076-c5f3-4179-90b8-b488c3a03522",
   "metadata": {},
   "outputs": [],
   "source": []
  }
 ],
 "metadata": {
  "kernelspec": {
   "display_name": "Python 3 (ipykernel)",
   "language": "python",
   "name": "python3"
  },
  "language_info": {
   "codemirror_mode": {
    "name": "ipython",
    "version": 3
   },
   "file_extension": ".py",
   "mimetype": "text/x-python",
   "name": "python",
   "nbconvert_exporter": "python",
   "pygments_lexer": "ipython3",
   "version": "3.11.11"
  }
 },
 "nbformat": 4,
 "nbformat_minor": 5
}
